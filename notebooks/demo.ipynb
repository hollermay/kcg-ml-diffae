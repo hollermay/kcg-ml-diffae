{
 "cells": [
  {
   "cell_type": "code",
   "metadata": {
    "colab": {
     "base_uri": "https://localhost:8080/"
    },
    "executionInfo": {
     "elapsed": 107235,
     "status": "ok",
     "timestamp": 1738339248922,
     "user": {
      "displayName": "Rigel Han",
      "userId": "01941834542849850239"
     },
     "user_tz": -480
    },
    "id": "Qg7lXvd8AU5E",
    "outputId": "62e8d9c5-c3f0-41fe-90f6-e10d8495c33f",
    "jupyter": {
     "is_executing": true
    }
   },
   "source": [
    "!git clone https://github.com/phizaz/diffae\n",
    "\n",
    "!pip install pytorch-lightning==1.5.10\n",
    "\n",
    "!mkdir lmdb\n",
    "!mkdir -p pytorch_fid/fid_score\n",
    "!mkdir lpips"
   ],
   "outputs": [],
   "execution_count": null
  },
  {
   "metadata": {},
   "cell_type": "code",
   "outputs": [],
   "execution_count": null,
   "source": ""
  },
  {
   "cell_type": "code",
   "execution_count": null,
   "metadata": {
    "colab": {
     "base_uri": "https://localhost:8080/",
     "height": 145
    },
    "executionInfo": {
     "elapsed": 53142,
     "status": "ok",
     "timestamp": 1738339336936,
     "user": {
      "displayName": "Rigel Han",
      "userId": "01941834542849850239"
     },
     "user_tz": -480
    },
    "id": "6O6jAD4GE5Ag",
    "outputId": "c9855f1d-41af-4c7e-8925-daef2d5abc93"
   },
   "outputs": [],
   "source": [
    "import gdown\n",
    "\n",
    "# https://drive.google.com/drive/folders/1-5zfxT6Gl-GjxM7z9ZO2AHlB70tfmF6V\n",
    "\n",
    "file_id = '1-BBodaXHMrYFutdyHwokrE7vRof83fwH'\n",
    "\n",
    "gdown.download(f'https://drive.google.com/uc?export=download&id={file_id}', 'ffhq256_autoenc.ckpt', quiet=False)\n"
   ]
  },
  {
   "cell_type": "code",
   "execution_count": null,
   "metadata": {
    "executionInfo": {
     "elapsed": 9553,
     "status": "ok",
     "timestamp": 1738339352551,
     "user": {
      "displayName": "Rigel Han",
      "userId": "01941834542849850239"
     },
     "user_tz": -480
    },
    "id": "ZofMKXH_Ayov"
   },
   "outputs": [],
   "source": [
    "import torch\n",
    "from torchvision.transforms import functional as VF\n",
    "from PIL import Image\n",
    "from matplotlib import pyplot"
   ]
  },
  {
   "cell_type": "code",
   "execution_count": null,
   "metadata": {
    "executionInfo": {
     "elapsed": 15,
     "status": "ok",
     "timestamp": 1738339352552,
     "user": {
      "displayName": "Rigel Han",
      "userId": "01941834542849850239"
     },
     "user_tz": -480
    },
    "id": "a2T59ObKA9-b"
   },
   "outputs": [],
   "source": [
    "import os, sys\n",
    "\n",
    "sys.path.append(os.path.abspath('./diffae/'))"
   ]
  },
  {
   "cell_type": "markdown",
   "metadata": {
    "id": "lpLSmKERBM21"
   },
   "source": [
    "# autoencoder"
   ]
  },
  {
   "cell_type": "code",
   "execution_count": null,
   "metadata": {
    "executionInfo": {
     "elapsed": 5552,
     "status": "ok",
     "timestamp": 1738339358090,
     "user": {
      "displayName": "Rigel Han",
      "userId": "01941834542849850239"
     },
     "user_tz": -480
    },
    "id": "8OPaEH5-BHIA"
   },
   "outputs": [],
   "source": [
    "from templates import ffhq256_autoenc, LitModel"
   ]
  },
  {
   "cell_type": "code",
   "execution_count": null,
   "metadata": {
    "colab": {
     "base_uri": "https://localhost:8080/"
    },
    "executionInfo": {
     "elapsed": 6192,
     "status": "ok",
     "timestamp": 1738339364279,
     "user": {
      "displayName": "Rigel Han",
      "userId": "01941834542849850239"
     },
     "user_tz": -480
    },
    "id": "_gyL9K9_BRK8",
    "outputId": "1f35f4cf-02a9-4d10-ac44-76b64b916ffa"
   },
   "outputs": [],
   "source": [
    "device = 'cuda'\n",
    "conf = ffhq256_autoenc()\n",
    "model = LitModel(conf)\n",
    "state = torch.load(f'./ffhq256_autoenc.ckpt', map_location='cpu')\n",
    "model.load_state_dict(state['state_dict'], strict=False)\n",
    "model.ema_model.eval()\n",
    "model.ema_model.to(device);"
   ]
  },
  {
   "cell_type": "markdown",
   "metadata": {
    "id": "rUbDHrKIEQpt"
   },
   "source": []
  },
  {
   "cell_type": "code",
   "execution_count": null,
   "metadata": {
    "colab": {
     "base_uri": "https://localhost:8080/"
    },
    "executionInfo": {
     "elapsed": 27679,
     "status": "ok",
     "timestamp": 1738339484402,
     "user": {
      "displayName": "Rigel Han",
      "userId": "01941834542849850239"
     },
     "user_tz": -480
    },
    "id": "vzqAnPiGGhrJ",
    "outputId": "0247b874-8170-4985-c9a0-9e1c6063a4bc"
   },
   "outputs": [],
   "source": [
    "img = Image.open('./diffae/imgs/sandy.JPG')\n",
    "img = img.resize((256, 256)).convert('RGB')\n",
    "\n",
    "x = VF.to_tensor(img)\n",
    "x = x * 2. - 1.\n",
    "x = x.unsqueeze(0).to(device)\n",
    "\n",
    "with torch.no_grad():\n",
    "\n",
    "    # https://github.com/phizaz/diffae/blob/master/experiment.py#L141\n",
    "    # https://github.com/phizaz/diffae/blob/master/model/unet.py#L496\n",
    "\n",
    "    cond = model.encode(x)\n",
    "\n",
    "    # https://github.com/phizaz/diffae/blob/master/experiment.py#L147\n",
    "    # https://github.com/phizaz/diffae/blob/master/diffusion/base.py#L670\n",
    "\n",
    "    xT = model.encode_stochastic(x, cond, T=250)\n",
    "\n",
    "    # https://github.com/phizaz/diffae/blob/master/experiment.py#L120\n",
    "    # https://github.com/phizaz/diffae/blob/master/renderer.py#L43\n",
    "    # https://github.com/phizaz/diffae/blob/master/diffusion/base.py#L181\n",
    "    # https://github.com/phizaz/diffae/blob/master/diffusion/base.py#L533\n",
    "    # https://github.com/phizaz/diffae/blob/master/diffusion/base.py#L483-L484\n",
    "\n",
    "    pred = model.render(xT, cond, T=20)\n",
    "\n",
    "cond.shape, xT.shape"
   ]
  },
  {
   "cell_type": "code",
   "execution_count": null,
   "metadata": {
    "colab": {
     "base_uri": "https://localhost:8080/",
     "height": 273
    },
    "executionInfo": {
     "elapsed": 2090,
     "status": "ok",
     "timestamp": 1738339543326,
     "user": {
      "displayName": "Rigel Han",
      "userId": "01941834542849850239"
     },
     "user_tz": -480
    },
    "id": "jvQggjtnGxK0",
    "outputId": "5b7c236f-b915-4339-d04b-0f361f985169"
   },
   "outputs": [],
   "source": [
    "VF.to_pil_image(torch.cat([\n",
    "    torch.clamp(x[0] * .5 + .5, 0., 1.),\n",
    "    torch.clamp(xT[0] * .125 + .5, 0., 1.),\n",
    "    torch.clamp(pred[0], 0., 1.)\n",
    "], dim=2))"
   ]
  }
 ],
 "metadata": {
  "accelerator": "GPU",
  "colab": {
   "authorship_tag": "ABX9TyPepSDJ56r1juMtejLPFuft",
   "gpuType": "T4",
   "provenance": []
  },
  "kernelspec": {
   "display_name": "Python 3",
   "name": "python3"
  },
  "language_info": {
   "name": "python"
  }
 },
 "nbformat": 4,
 "nbformat_minor": 0
}
